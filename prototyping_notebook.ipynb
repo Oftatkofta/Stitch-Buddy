{
 "cells": [
  {
   "cell_type": "code",
   "execution_count": 13,
   "metadata": {
    "collapsed": false
   },
   "outputs": [
    {
     "name": "stderr",
     "output_type": "stream",
     "text": [
      "Stitchit/tiffile.py:271: UserWarning: failed to import the optional _tifffile C extension module.\nLoading of some compressed images will be very slow.\nTifffile.c can be obtained at http://www.lfd.uci.edu/~gohlke/\n  \"failed to import the optional _tifffile C extension module.\\n\"\n"
     ]
    }
   ],
   "source": [
    "from __future__ import print_function, absolute_import, division\n",
    "from PIL import Image, ImageSequence, TiffTags, TiffImagePlugin\n",
    "from Stitchit import tiffile\n",
    "import os"
   ]
  },
  {
   "cell_type": "code",
   "execution_count": 10,
   "metadata": {
    "collapsed": false
   },
   "outputs": [
    {
     "name": "stdout",
     "output_type": "stream",
     "text": [
      "/Users/jens_e/Desktop/Python_laboratory/Stitchhack\n"
     ]
    }
   ],
   "source": [
    "\n",
    "indir=r\"/Volumes/HDD/Huygens_SYNC/Raw OME files for test/2Z_2C_2x2gridx2_2T_2\" \n",
    "outdir=r\"/Users/jens_e/Desktop/Python_laboratory/Stitchhack\"                   \n",
    "#Ingore non-.tif files in indir                                                \n",
    "filenames = [fname for fname in os.listdir(indir) if \".tif\" in fname]          \n",
    "mm_testfile = os.path.join(indir, filenames[0])                                \n",
    "ij_testfile = r\"/Volumes/HDD/Huygens_SYNC/med_raw.tif\""
   ]
  },
  {
   "cell_type": "code",
   "execution_count": 5,
   "metadata": {
    "collapsed": false
   },
   "outputs": [
    {
     "name": "stdout",
     "output_type": "stream",
     "text": [
      "/Volumes/HDD/Huygens_SYNC/Raw OME files for test/2Z_2C_2x2gridx2_2T_2/2Z_2C_2x2gridx2_2T_2_MMStack_1-Pos_000_000.ome.tif TIFF (512, 512) I;16 {'compression': 'raw', 'dpi': (20203.16, 20203.16)}\n/Volumes/HDD/Huygens_SYNC/med_raw.tif TIFF (2542, 2542) L {'resolution': (0.382204, 0.382204), 'compression': 'raw'}\n{'compression': 'raw', 'dpi': (20203.16, 20203.16)} (512, 512)\n{'compression': 'raw', 'dpi': (20203.16, 20203.16)} (512, 512)\n{'compression': 'raw', 'dpi': (20203.16, 20203.16)} (512, 512)\n{'compression': 'raw', 'dpi': (20203.16, 20203.16)} (512, 512)\n{'compression': 'raw', 'dpi': (20203.16, 20203.16)} (512, 512)\n{'compression': 'raw', 'dpi': (20203.16, 20203.16)} (512, 512)\n{'compression': 'raw', 'dpi': (20203.16, 20203.16)} (512, 512)\n{'compression': 'raw', 'dpi': (20203.16, 20203.16)} (512, 512)\n<PIL.TiffImagePlugin.TiffImageFile image mode=I;16 size=512x512 at 0x10D998D50>\n"
     ]
    }
   ],
   "source": [
    "mm_test = Image.open(mm_testfile)\n",
    "ij_test = Image.open(ij_testfile)\n",
    "print(mm_testfile, mm_test.format, mm_test.size, mm_test.mode, mm_test.info)\n",
    "print(ij_testfile, ij_test.format, ij_test.size, ij_test.mode, ij_test.info)\n",
    "\n",
    "mm_iterator = ImageSequence.Iterator(mm_test)\n",
    "for frame in mm_iterator:\n",
    "    print(frame.info, frame.size)\n",
    "print(mm_iterator[2])"
   ]
  },
  {
   "cell_type": "code",
   "execution_count": 6,
   "metadata": {
    "collapsed": true
   },
   "outputs": [],
   "source": [
    "with TiffWriter('temp.tif', bigtiff=False, byteorder='>', imagej=True) as tif:\n",
    "    for i in range(data.shape[0]):\n",
    "        tif.save(data[i], compress=1)\n"
   ]
  },
  {
   "cell_type": "code",
   "execution_count": null,
   "metadata": {
    "collapsed": true
   },
   "outputs": [],
   "source": [
    ""
   ]
  }
 ],
 "metadata": {
  "kernelspec": {
   "display_name": "Python 2",
   "language": "python",
   "name": "python2"
  },
  "language_info": {
   "codemirror_mode": {
    "name": "ipython",
    "version": 2.0
   },
   "file_extension": ".py",
   "mimetype": "text/x-python",
   "name": "python",
   "nbconvert_exporter": "python",
   "pygments_lexer": "ipython2",
   "version": "2.7.11"
  }
 },
 "nbformat": 4,
 "nbformat_minor": 0
}