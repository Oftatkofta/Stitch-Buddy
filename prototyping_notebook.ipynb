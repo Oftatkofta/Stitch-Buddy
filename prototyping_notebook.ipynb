{
 "cells": [
  {
   "cell_type": "code",
   "execution_count": 3,
   "metadata": {
    "collapsed": false
   },
   "outputs": [
    {
     "ename": "ImportError",
     "evalue": "No module named tiffile_mod",
     "traceback": [
      "\u001b[0;31m---------------------------------------------------------------------------\u001b[0m",
      "\u001b[0;31mImportError\u001b[0m                               Traceback (most recent call last)",
      "\u001b[0;32m<ipython-input-3-54b631518158>\u001b[0m in \u001b[0;36m<module>\u001b[0;34m()\u001b[0m\n\u001b[1;32m      1\u001b[0m \u001b[0;32mfrom\u001b[0m \u001b[0m__future__\u001b[0m \u001b[0;32mimport\u001b[0m \u001b[0mprint_function\u001b[0m\u001b[0;34m,\u001b[0m \u001b[0mabsolute_import\u001b[0m\u001b[0;34m,\u001b[0m \u001b[0mdivision\u001b[0m\u001b[0;34m\u001b[0m\u001b[0m\n\u001b[1;32m      2\u001b[0m \u001b[0;32mfrom\u001b[0m \u001b[0mPIL\u001b[0m \u001b[0;32mimport\u001b[0m \u001b[0mImage\u001b[0m\u001b[0;34m,\u001b[0m \u001b[0mImageSequence\u001b[0m\u001b[0;34m,\u001b[0m \u001b[0mTiffTags\u001b[0m\u001b[0;34m,\u001b[0m \u001b[0mTiffImagePlugin\u001b[0m\u001b[0;34m\u001b[0m\u001b[0m\n\u001b[0;32m----> 3\u001b[0;31m \u001b[0;32mimport\u001b[0m \u001b[0mtiffile_mod\u001b[0m\u001b[0;34m,\u001b[0m \u001b[0mtifffile\u001b[0m\u001b[0;34m\u001b[0m\u001b[0m\n\u001b[0m\u001b[1;32m      4\u001b[0m \u001b[0;32mimport\u001b[0m \u001b[0mos\u001b[0m\u001b[0;34m\u001b[0m\u001b[0m\n",
      "\u001b[0;31mImportError\u001b[0m: No module named tiffile_mod"
     ],
     "output_type": "error"
    }
   ],
   "source": [
    "from __future__ import print_function, absolute_import, division\n",
    "from PIL import Image, ImageSequence, TiffTags, TiffImagePlugin\n",
    "import tiffile_mod, tifffile\n",
    "import os"
   ]
  },
  {
   "cell_type": "code",
   "execution_count": 4,
   "metadata": {
    "collapsed": false
   },
   "outputs": [
    {
     "ename": "NameError",
     "evalue": "name 'os' is not defined",
     "traceback": [
      "\u001b[0;31m---------------------------------------------------------------------------\u001b[0m",
      "\u001b[0;31mNameError\u001b[0m                                 Traceback (most recent call last)",
      "\u001b[0;32m<ipython-input-4-25e8ab3f1cc2>\u001b[0m in \u001b[0;36m<module>\u001b[0;34m()\u001b[0m\n\u001b[1;32m      2\u001b[0m \u001b[0moutdir\u001b[0m\u001b[0;34m=\u001b[0m\u001b[0;34mr\"/Volumes/HDD/Python_laboratory/Stitchhack\"\u001b[0m\u001b[0;34m\u001b[0m\u001b[0m\n\u001b[1;32m      3\u001b[0m \u001b[0;31m#Ingore non-.tif files in indir\u001b[0m\u001b[0;34m\u001b[0m\u001b[0;34m\u001b[0m\u001b[0m\n\u001b[0;32m----> 4\u001b[0;31m \u001b[0mfilenames\u001b[0m \u001b[0;34m=\u001b[0m \u001b[0;34m[\u001b[0m\u001b[0mfname\u001b[0m \u001b[0;32mfor\u001b[0m \u001b[0mfname\u001b[0m \u001b[0;32min\u001b[0m \u001b[0mos\u001b[0m\u001b[0;34m.\u001b[0m\u001b[0mlistdir\u001b[0m\u001b[0;34m(\u001b[0m\u001b[0mindir\u001b[0m\u001b[0;34m)\u001b[0m \u001b[0;32mif\u001b[0m \u001b[0;34m\".tif\"\u001b[0m \u001b[0;32min\u001b[0m \u001b[0mfname\u001b[0m\u001b[0;34m]\u001b[0m\u001b[0;34m\u001b[0m\u001b[0m\n\u001b[0m\u001b[1;32m      5\u001b[0m \u001b[0mmm_testfile\u001b[0m \u001b[0;34m=\u001b[0m \u001b[0mos\u001b[0m\u001b[0;34m.\u001b[0m\u001b[0mpath\u001b[0m\u001b[0;34m.\u001b[0m\u001b[0mjoin\u001b[0m\u001b[0;34m(\u001b[0m\u001b[0mindir\u001b[0m\u001b[0;34m,\u001b[0m \u001b[0mfilenames\u001b[0m\u001b[0;34m[\u001b[0m\u001b[0;36m0\u001b[0m\u001b[0;34m]\u001b[0m\u001b[0;34m)\u001b[0m\u001b[0;34m\u001b[0m\u001b[0m\n\u001b[1;32m      6\u001b[0m \u001b[0mij_testfile\u001b[0m \u001b[0;34m=\u001b[0m \u001b[0;34mr\"/Volumes/HDD/Huygens_SYNC/med_raw.tif\"\u001b[0m\u001b[0;34m\u001b[0m\u001b[0m\n",
      "\u001b[0;31mNameError\u001b[0m: name 'os' is not defined"
     ],
     "output_type": "error"
    }
   ],
   "source": [
    "indir=r\"/Volumes/HDD/Huygens_SYNC/Raw OME files for test/2Z_2C_2x2gridx2_2T_2\" \n",
    "outdir=r\"/Volumes/HDD/Python_laboratory/Stitchhack\"                   \n",
    "#Ingore non-.tif files in indir                                                \n",
    "filenames = [fname for fname in os.listdir(indir) if \".tif\" in fname]          \n",
    "mm_testfile = os.path.join(indir, filenames[0])                                \n",
    "ij_testfile = r\"/Volumes/HDD/Huygens_SYNC/med_raw.tif\""
   ]
  },
  {
   "cell_type": "code",
   "execution_count": 5,
   "metadata": {
    "collapsed": false
   },
   "outputs": [
    {
     "name": "stdout",
     "output_type": "stream",
     "text": [
      "/Volumes/HDD/Huygens_SYNC/Raw OME files for test/2Z_2C_2x2gridx2_2T_2/2Z_2C_2x2gridx2_2T_2_MMStack_1-Pos_000_000.ome.tif TIFF (512, 512) I;16 {'compression': 'raw', 'dpi': (20203.16, 20203.16)}\n/Volumes/HDD/Huygens_SYNC/med_raw.tif TIFF (2542, 2542) L {'resolution': (0.382204, 0.382204), 'compression': 'raw'}\n{'compression': 'raw', 'dpi': (20203.16, 20203.16)} (512, 512)\n{'compression': 'raw', 'dpi': (20203.16, 20203.16)} (512, 512)\n{'compression': 'raw', 'dpi': (20203.16, 20203.16)} (512, 512)\n{'compression': 'raw', 'dpi': (20203.16, 20203.16)} (512, 512)\n{'compression': 'raw', 'dpi': (20203.16, 20203.16)} (512, 512)\n{'compression': 'raw', 'dpi': (20203.16, 20203.16)} (512, 512)\n{'compression': 'raw', 'dpi': (20203.16, 20203.16)} (512, 512)\n{'compression': 'raw', 'dpi': (20203.16, 20203.16)} (512, 512)\n<PIL.TiffImagePlugin.TiffImageFile image mode=I;16 size=512x512 at 0x10D998D50>\n"
     ]
    }
   ],
   "source": [
    "mm_test = Image.open(mm_testfile)\n",
    "ij_test = Image.open(ij_testfile)\n",
    "print(mm_testfile, mm_test.format, mm_test.size, mm_test.mode, mm_test.info)\n",
    "print(ij_testfile, ij_test.format, ij_test.size, ij_test.mode, ij_test.info)\n",
    "\n",
    "mm_iterator = ImageSequence.Iterator(mm_test)\n",
    "for frame in mm_iterator:\n",
    "    print(frame.info, frame.size)\n",
    "print(mm_iterator[2])"
   ]
  },
  {
   "cell_type": "code",
   "execution_count": 6,
   "metadata": {
    "collapsed": true
   },
   "outputs": [],
   "source": [
    "with TiffWriter(mm_testfile, bigtiff=False, imagej=True) as tif:\n",
    "    for i in range(data.shape[0]):\n",
    "        tif.save(data[i], compress=1)"
   ]
  },
  {
   "cell_type": "code",
   "execution_count": null,
   "metadata": {
    "collapsed": true
   },
   "outputs": [],
   "source": [
    ""
   ]
  }
 ],
 "metadata": {
  "kernelspec": {
   "display_name": "Python 2",
   "language": "python",
   "name": "python2"
  },
  "language_info": {
   "codemirror_mode": {
    "name": "ipython",
    "version": 2.0
   },
   "file_extension": ".py",
   "mimetype": "text/x-python",
   "name": "python",
   "nbconvert_exporter": "python",
   "pygments_lexer": "ipython2",
   "version": "2.7.11"
  }
 },
 "nbformat": 4,
 "nbformat_minor": 0
}